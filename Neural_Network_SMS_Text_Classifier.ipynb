{
  "nbformat": 4,
  "nbformat_minor": 0,
  "metadata": {
    "colab": {
      "provenance": [],
      "authorship_tag": "ABX9TyP6+RS+Kq7obmtFGYNxRUfb",
      "include_colab_link": true
    },
    "kernelspec": {
      "name": "python3",
      "display_name": "Python 3"
    },
    "language_info": {
      "name": "python"
    }
  },
  "cells": [
    {
      "cell_type": "markdown",
      "metadata": {
        "id": "view-in-github",
        "colab_type": "text"
      },
      "source": [
        "<a href=\"https://colab.research.google.com/github/Krishnaa548/Mlops/blob/main/Neural_Network_SMS_Text_Classifier.ipynb\" target=\"_parent\"><img src=\"https://colab.research.google.com/assets/colab-badge.svg\" alt=\"Open In Colab\"/></a>"
      ]
    },
    {
      "cell_type": "code",
      "source": [
        "import pandas as pd # Import pandas library\n",
        "import numpy as np\n",
        "from tensorflow.keras.preprocessing.text import Tokenizer\n",
        "from tensorflow.keras.preprocessing.sequence import pad_sequences\n",
        "from tensorflow.keras.models import Sequential\n",
        "from tensorflow.keras.layers import Embedding, GlobalAveragePooling1D, Dense\n",
        "from tensorflow.keras.callbacks import EarlyStopping"
      ],
      "metadata": {
        "id": "KpUwkrBG6Qj_"
      },
      "execution_count": null,
      "outputs": []
    },
    {
      "cell_type": "code",
      "source": [
        "train_df = pd.read_csv('/content/spam.csv', encoding='latin1')  # Specify 'latin1' encoding\n",
        "test_df = pd.read_csv('/content/spam.csv', encoding='latin1')   # Specify 'latin1' encoding"
      ],
      "metadata": {
        "id": "HBXmLcjP8T_s"
      },
      "execution_count": null,
      "outputs": []
    },
    {
      "cell_type": "code",
      "source": [
        "!pip install chardet\n",
        "import chardet\n",
        "\n",
        "with open('/content/spam.csv', 'rb') as rawdata:\n",
        "    result = chardet.detect(rawdata.read(100000))\n",
        "\n",
        "print(result) # This will show the detected encoding\n",
        "\n",
        "train_df = pd.read_csv('/content/spam.csv', encoding=result['encoding'])\n",
        "test_df = pd.read_csv('/content/spam.csv', encoding=result['encoding'])"
      ],
      "metadata": {
        "colab": {
          "base_uri": "https://localhost:8080/"
        },
        "id": "zrZSK6m28l4V",
        "outputId": "ba23e5a0-af01-4a1d-d17c-07deb22e5a87"
      },
      "execution_count": null,
      "outputs": [
        {
          "output_type": "stream",
          "name": "stdout",
          "text": [
            "Requirement already satisfied: chardet in /usr/local/lib/python3.11/dist-packages (5.2.0)\n",
            "{'encoding': 'Windows-1252', 'confidence': 0.7272080023536335, 'language': ''}\n"
          ]
        }
      ]
    },
    {
      "cell_type": "code",
      "source": [
        "print(train_df.columns) # Print the current column names."
      ],
      "metadata": {
        "colab": {
          "base_uri": "https://localhost:8080/"
        },
        "id": "1HT78uBM9_uz",
        "outputId": "8f29da2c-cbac-4d70-b3cb-63d43f515cd9"
      },
      "execution_count": null,
      "outputs": [
        {
          "output_type": "stream",
          "name": "stdout",
          "text": [
            "Index(['label', 'v2', 'Unnamed: 2', 'Unnamed: 3', 'Unnamed: 4'], dtype='object')\n"
          ]
        }
      ]
    },
    {
      "cell_type": "code",
      "source": [
        "# Map labels to binary values: ham -> 0, spam -> 1.\n",
        "label_map = {'ham': 0, 'spam': 1}\n",
        "# Access the correct column name instead of 'label'\n",
        "\n",
        "# Assuming your column is named 'v1' in the original CSV\n",
        "# If it's different, replace 'v1' with the actual column name\n",
        "train_df['Unnamed: 2'] = train_df['Unnamed: 2'].map(label_map)\n",
        "test_df['Unnamed: 2'] = test_df['Unnamed: 2'].map(label_map)\n",
        "\n",
        "# Rename column 'v1' to 'label' and 'v2' to 'message' for clarity.\n",
        "train_df.rename(columns={'Unnamed: 2': 'label', 'v2': 'message'}, inplace=True)\n",
        "test_df.rename(columns={'Unnamed: 2': 'label', 'v2': 'message'}, inplace=True)"
      ],
      "metadata": {
        "id": "6s5Za5Gz6enU"
      },
      "execution_count": null,
      "outputs": []
    },
    {
      "cell_type": "code",
      "source": [
        "# Define the vocabulary size, maximum sequence length, and embedding dimension\n",
        "vocab_size = 10000  # Example value, adjust as needed\n",
        "max_length = 100    # Example value, adjust as needed\n",
        "embedding_dim = 16   # Example value, adjust as needed\n",
        "\n",
        "# Initialize and fit the tokenizer on the training messages.\n",
        "tokenizer = Tokenizer(num_words=vocab_size, oov_token='<OOV>')\n",
        "tokenizer.fit_on_texts(train_df['message'])"
      ],
      "metadata": {
        "id": "61OnS0WP6eqz"
      },
      "execution_count": null,
      "outputs": []
    },
    {
      "cell_type": "code",
      "source": [
        "import pandas as pd\n",
        "import numpy as np\n",
        "from tensorflow.keras.preprocessing.text import Tokenizer\n",
        "from tensorflow.keras.preprocessing.sequence import pad_sequences\n",
        "from tensorflow.keras.models import Sequential\n",
        "from tensorflow.keras.layers import Embedding, GlobalAveragePooling1D, Dense\n",
        "from tensorflow.keras.callbacks import EarlyStopping\n",
        "import chardet\n",
        "\n",
        "# Detect encoding\n",
        "with open('/content/spam.csv', 'rb') as rawdata:\n",
        "    result = chardet.detect(rawdata.read(100000))\n",
        "\n",
        "# Read the CSV file with the detected encoding\n",
        "df = pd.read_csv('/content/spam.csv', encoding=result['encoding'])\n",
        "\n",
        "# Split data into training and testing sets\n",
        "from sklearn.model_selection import train_test_split\n",
        "train_df, test_df = train_test_split(df, test_size=0.2, random_state=42) # 80% train, 20% test\n",
        "\n",
        "# Check and map labels if necessary\n",
        "if train_df['v1'].dtypes != np.int64:\n",
        "    label_map = {'ham': 0, 'spam': 1}\n",
        "    train_df['v1'] = train_df['v1'].map(label_map)\n",
        "    test_df['v1'] = test_df['v1'].map(label_map)\n",
        "\n",
        "# Rename columns\n",
        "train_df.rename(columns={'v1': 'label', 'v2': 'message'}, inplace=True)\n",
        "test_df.rename(columns={'v1': 'label', 'v2': 'message'}, inplace=True)\n",
        "\n",
        "# ... (Rest of your code for tokenization, model building, and training remains the same) ..."
      ],
      "metadata": {
        "id": "SE_2Wxm96etW"
      },
      "execution_count": null,
      "outputs": []
    },
    {
      "cell_type": "code",
      "source": [
        "# Convert text messages to sequences of integers.\n",
        "train_sequences = tokenizer.texts_to_sequences(train_df['message'])\n",
        "test_sequences = tokenizer.texts_to_sequences(test_df['message'])"
      ],
      "metadata": {
        "id": "kUGhiv4H6ewW"
      },
      "execution_count": null,
      "outputs": []
    },
    {
      "cell_type": "code",
      "source": [
        "# Pad the sequences so they are all the same length.\n",
        "X_train = pad_sequences(train_sequences, maxlen=max_length, padding='post', truncating='post')\n",
        "X_test = pad_sequences(test_sequences, maxlen=max_length, padding='post', truncating='post')\n"
      ],
      "metadata": {
        "id": "L9d5MWmg67fV"
      },
      "execution_count": null,
      "outputs": []
    },
    {
      "cell_type": "code",
      "source": [
        "\n",
        "# Get labels as NumPy arrays.\n",
        "y_train = np.array(train_df['label'])\n",
        "y_test = np.array(test_df['label'])"
      ],
      "metadata": {
        "id": "KNnJ_Aw96_Ma"
      },
      "execution_count": null,
      "outputs": []
    },
    {
      "cell_type": "code",
      "source": [
        "# Create a simple sequential model.\n",
        "model = Sequential([\n",
        "    Embedding(input_dim=vocab_size, output_dim=embedding_dim, input_length=max_length),\n",
        "    GlobalAveragePooling1D(),\n",
        "    Dense(24, activation='relu'),\n",
        "    Dense(1, activation='sigmoid')  # Output layer: sigmoid activation gives probability of spam.\n",
        "])"
      ],
      "metadata": {
        "colab": {
          "base_uri": "https://localhost:8080/"
        },
        "id": "LmlMjWH57CyT",
        "outputId": "be9e1925-5509-415e-d2a1-61ba4b5bf367"
      },
      "execution_count": null,
      "outputs": [
        {
          "output_type": "stream",
          "name": "stderr",
          "text": [
            "/usr/local/lib/python3.11/dist-packages/keras/src/layers/core/embedding.py:90: UserWarning: Argument `input_length` is deprecated. Just remove it.\n",
            "  warnings.warn(\n"
          ]
        }
      ]
    },
    {
      "cell_type": "code",
      "source": [
        "# Compile the model using binary crossentropy since we have a binary classification.\n",
        "model.compile(loss='binary_crossentropy', optimizer='adam', metrics=['accuracy'])\n",
        "model.summary()"
      ],
      "metadata": {
        "colab": {
          "base_uri": "https://localhost:8080/",
          "height": 273
        },
        "id": "CkqmdJLg7HUN",
        "outputId": "739d622b-ee59-423c-b33d-ad01c99d8289"
      },
      "execution_count": null,
      "outputs": [
        {
          "output_type": "display_data",
          "data": {
            "text/plain": [
              "\u001b[1mModel: \"sequential\"\u001b[0m\n"
            ],
            "text/html": [
              "<pre style=\"white-space:pre;overflow-x:auto;line-height:normal;font-family:Menlo,'DejaVu Sans Mono',consolas,'Courier New',monospace\"><span style=\"font-weight: bold\">Model: \"sequential\"</span>\n",
              "</pre>\n"
            ]
          },
          "metadata": {}
        },
        {
          "output_type": "display_data",
          "data": {
            "text/plain": [
              "┏━━━━━━━━━━━━━━━━━━━━━━━━━━━━━━━━━━━━━━┳━━━━━━━━━━━━━━━━━━━━━━━━━━━━━┳━━━━━━━━━━━━━━━━━┓\n",
              "┃\u001b[1m \u001b[0m\u001b[1mLayer (type)                        \u001b[0m\u001b[1m \u001b[0m┃\u001b[1m \u001b[0m\u001b[1mOutput Shape               \u001b[0m\u001b[1m \u001b[0m┃\u001b[1m \u001b[0m\u001b[1m        Param #\u001b[0m\u001b[1m \u001b[0m┃\n",
              "┡━━━━━━━━━━━━━━━━━━━━━━━━━━━━━━━━━━━━━━╇━━━━━━━━━━━━━━━━━━━━━━━━━━━━━╇━━━━━━━━━━━━━━━━━┩\n",
              "│ embedding (\u001b[38;5;33mEmbedding\u001b[0m)                │ ?                           │     \u001b[38;5;34m0\u001b[0m (unbuilt) │\n",
              "├──────────────────────────────────────┼─────────────────────────────┼─────────────────┤\n",
              "│ global_average_pooling1d             │ ?                           │               \u001b[38;5;34m0\u001b[0m │\n",
              "│ (\u001b[38;5;33mGlobalAveragePooling1D\u001b[0m)             │                             │                 │\n",
              "├──────────────────────────────────────┼─────────────────────────────┼─────────────────┤\n",
              "│ dense (\u001b[38;5;33mDense\u001b[0m)                        │ ?                           │     \u001b[38;5;34m0\u001b[0m (unbuilt) │\n",
              "├──────────────────────────────────────┼─────────────────────────────┼─────────────────┤\n",
              "│ dense_1 (\u001b[38;5;33mDense\u001b[0m)                      │ ?                           │     \u001b[38;5;34m0\u001b[0m (unbuilt) │\n",
              "└──────────────────────────────────────┴─────────────────────────────┴─────────────────┘\n"
            ],
            "text/html": [
              "<pre style=\"white-space:pre;overflow-x:auto;line-height:normal;font-family:Menlo,'DejaVu Sans Mono',consolas,'Courier New',monospace\">┏━━━━━━━━━━━━━━━━━━━━━━━━━━━━━━━━━━━━━━┳━━━━━━━━━━━━━━━━━━━━━━━━━━━━━┳━━━━━━━━━━━━━━━━━┓\n",
              "┃<span style=\"font-weight: bold\"> Layer (type)                         </span>┃<span style=\"font-weight: bold\"> Output Shape                </span>┃<span style=\"font-weight: bold\">         Param # </span>┃\n",
              "┡━━━━━━━━━━━━━━━━━━━━━━━━━━━━━━━━━━━━━━╇━━━━━━━━━━━━━━━━━━━━━━━━━━━━━╇━━━━━━━━━━━━━━━━━┩\n",
              "│ embedding (<span style=\"color: #0087ff; text-decoration-color: #0087ff\">Embedding</span>)                │ ?                           │     <span style=\"color: #00af00; text-decoration-color: #00af00\">0</span> (unbuilt) │\n",
              "├──────────────────────────────────────┼─────────────────────────────┼─────────────────┤\n",
              "│ global_average_pooling1d             │ ?                           │               <span style=\"color: #00af00; text-decoration-color: #00af00\">0</span> │\n",
              "│ (<span style=\"color: #0087ff; text-decoration-color: #0087ff\">GlobalAveragePooling1D</span>)             │                             │                 │\n",
              "├──────────────────────────────────────┼─────────────────────────────┼─────────────────┤\n",
              "│ dense (<span style=\"color: #0087ff; text-decoration-color: #0087ff\">Dense</span>)                        │ ?                           │     <span style=\"color: #00af00; text-decoration-color: #00af00\">0</span> (unbuilt) │\n",
              "├──────────────────────────────────────┼─────────────────────────────┼─────────────────┤\n",
              "│ dense_1 (<span style=\"color: #0087ff; text-decoration-color: #0087ff\">Dense</span>)                      │ ?                           │     <span style=\"color: #00af00; text-decoration-color: #00af00\">0</span> (unbuilt) │\n",
              "└──────────────────────────────────────┴─────────────────────────────┴─────────────────┘\n",
              "</pre>\n"
            ]
          },
          "metadata": {}
        },
        {
          "output_type": "display_data",
          "data": {
            "text/plain": [
              "\u001b[1m Total params: \u001b[0m\u001b[38;5;34m0\u001b[0m (0.00 B)\n"
            ],
            "text/html": [
              "<pre style=\"white-space:pre;overflow-x:auto;line-height:normal;font-family:Menlo,'DejaVu Sans Mono',consolas,'Courier New',monospace\"><span style=\"font-weight: bold\"> Total params: </span><span style=\"color: #00af00; text-decoration-color: #00af00\">0</span> (0.00 B)\n",
              "</pre>\n"
            ]
          },
          "metadata": {}
        },
        {
          "output_type": "display_data",
          "data": {
            "text/plain": [
              "\u001b[1m Trainable params: \u001b[0m\u001b[38;5;34m0\u001b[0m (0.00 B)\n"
            ],
            "text/html": [
              "<pre style=\"white-space:pre;overflow-x:auto;line-height:normal;font-family:Menlo,'DejaVu Sans Mono',consolas,'Courier New',monospace\"><span style=\"font-weight: bold\"> Trainable params: </span><span style=\"color: #00af00; text-decoration-color: #00af00\">0</span> (0.00 B)\n",
              "</pre>\n"
            ]
          },
          "metadata": {}
        },
        {
          "output_type": "display_data",
          "data": {
            "text/plain": [
              "\u001b[1m Non-trainable params: \u001b[0m\u001b[38;5;34m0\u001b[0m (0.00 B)\n"
            ],
            "text/html": [
              "<pre style=\"white-space:pre;overflow-x:auto;line-height:normal;font-family:Menlo,'DejaVu Sans Mono',consolas,'Courier New',monospace\"><span style=\"font-weight: bold\"> Non-trainable params: </span><span style=\"color: #00af00; text-decoration-color: #00af00\">0</span> (0.00 B)\n",
              "</pre>\n"
            ]
          },
          "metadata": {}
        }
      ]
    },
    {
      "cell_type": "code",
      "source": [
        "# Use early stopping to avoid overfitting.\n",
        "early_stop = EarlyStopping(monitor='val_loss', patience=3)"
      ],
      "metadata": {
        "id": "o2HRlSgQ7MRl"
      },
      "execution_count": null,
      "outputs": []
    },
    {
      "cell_type": "code",
      "source": [
        "\n",
        "# Train the model.\n",
        "history = model.fit(X_train, y_train,\n",
        "                    epochs=20,\n",
        "                    validation_data=(X_test, y_test),\n",
        "                    callbacks=[early_stop],\n",
        "                    verbose=2)"
      ],
      "metadata": {
        "colab": {
          "base_uri": "https://localhost:8080/"
        },
        "id": "l-Slz1cm7MVL",
        "outputId": "2f44421f-552c-4922-b4ed-c21da71aab05"
      },
      "execution_count": null,
      "outputs": [
        {
          "output_type": "stream",
          "name": "stdout",
          "text": [
            "Epoch 1/20\n",
            "140/140 - 2s - 17ms/step - accuracy: 0.8661 - loss: 0.3832 - val_accuracy: 0.8655 - val_loss: 0.3678\n",
            "Epoch 2/20\n",
            "140/140 - 1s - 4ms/step - accuracy: 0.8661 - loss: 0.3605 - val_accuracy: 0.8655 - val_loss: 0.3597\n",
            "Epoch 3/20\n",
            "140/140 - 1s - 4ms/step - accuracy: 0.8661 - loss: 0.3497 - val_accuracy: 0.8655 - val_loss: 0.3460\n",
            "Epoch 4/20\n",
            "140/140 - 1s - 7ms/step - accuracy: 0.8661 - loss: 0.3270 - val_accuracy: 0.8655 - val_loss: 0.3160\n",
            "Epoch 5/20\n",
            "140/140 - 1s - 9ms/step - accuracy: 0.8759 - loss: 0.2586 - val_accuracy: 0.8915 - val_loss: 0.2082\n",
            "Epoch 6/20\n",
            "140/140 - 1s - 6ms/step - accuracy: 0.9542 - loss: 0.1355 - val_accuracy: 0.9722 - val_loss: 0.1181\n",
            "Epoch 7/20\n",
            "140/140 - 1s - 4ms/step - accuracy: 0.9782 - loss: 0.0772 - val_accuracy: 0.9713 - val_loss: 0.0934\n",
            "Epoch 8/20\n",
            "140/140 - 1s - 4ms/step - accuracy: 0.9827 - loss: 0.0594 - val_accuracy: 0.9794 - val_loss: 0.0854\n",
            "Epoch 9/20\n",
            "140/140 - 1s - 4ms/step - accuracy: 0.9868 - loss: 0.0473 - val_accuracy: 0.9776 - val_loss: 0.0744\n",
            "Epoch 10/20\n",
            "140/140 - 1s - 4ms/step - accuracy: 0.9868 - loss: 0.0414 - val_accuracy: 0.9803 - val_loss: 0.0709\n",
            "Epoch 11/20\n",
            "140/140 - 1s - 4ms/step - accuracy: 0.9888 - loss: 0.0358 - val_accuracy: 0.9794 - val_loss: 0.0710\n",
            "Epoch 12/20\n",
            "140/140 - 1s - 5ms/step - accuracy: 0.9899 - loss: 0.0336 - val_accuracy: 0.9830 - val_loss: 0.0667\n",
            "Epoch 13/20\n",
            "140/140 - 1s - 4ms/step - accuracy: 0.9908 - loss: 0.0281 - val_accuracy: 0.9740 - val_loss: 0.0876\n",
            "Epoch 14/20\n",
            "140/140 - 1s - 4ms/step - accuracy: 0.9921 - loss: 0.0273 - val_accuracy: 0.9803 - val_loss: 0.0691\n",
            "Epoch 15/20\n",
            "140/140 - 1s - 4ms/step - accuracy: 0.9926 - loss: 0.0243 - val_accuracy: 0.9794 - val_loss: 0.0681\n"
          ]
        }
      ]
    },
    {
      "cell_type": "code",
      "source": [
        "\n",
        "def predict_message(message):\n",
        "    \"\"\"\n",
        "    Predicts whether a given SMS message is ham or spam.\n",
        "\n",
        "    Args:\n",
        "        message (str): The SMS message to classify.\n",
        "\n",
        "    Returns:\n",
        "        list: A two-element list where the first element is the probability (0 to 1)\n",
        "              that the message is spam, and the second element is the string 'spam'\n",
        "              if the message is more likely spam or 'ham' otherwise.\n",
        "    \"\"\""
      ],
      "metadata": {
        "id": "KrHOT9LO7MYZ"
      },
      "execution_count": null,
      "outputs": []
    },
    {
      "cell_type": "code",
      "source": [
        "import pandas as pd\n",
        "import numpy as np\n",
        "from tensorflow.keras.preprocessing.text import Tokenizer\n",
        "from tensorflow.keras.preprocessing.sequence import pad_sequences\n",
        "from tensorflow.keras.models import Sequential\n",
        "from tensorflow.keras.layers import Embedding, GlobalAveragePooling1D, Dense\n",
        "from tensorflow.keras.callbacks import EarlyStopping\n",
        "import chardet\n",
        "from sklearn.model_selection import train_test_split\n",
        "\n",
        "# Detect encoding\n",
        "with open('/content/spam.csv', 'rb') as rawdata:\n",
        "    result = chardet.detect(rawdata.read(100000))\n",
        "\n",
        "# Read the CSV file with the detected encoding\n",
        "df = pd.read_csv('/content/spam.csv', encoding=result['encoding'])\n",
        "\n",
        "# Split data into training and testing sets\n",
        "train_df, test_df = train_test_split(df, test_size=0.2, random_state=42) # 80% train, 20% test\n",
        "\n",
        "# Check and map labels if necessary\n",
        "if train_df['v1'].dtypes != np.int64:\n",
        "    label_map = {'ham': 0, 'spam': 1}\n",
        "    train_df['v1'] = train_df['v1'].map(label_map)\n",
        "    test_df['v1'] = test_df['v1'].map(label_map)\n",
        "\n",
        "# Rename columns\n",
        "train_df.rename(columns={'v1': 'label', 'v2': 'message'}, inplace=True)\n",
        "test_df.rename(columns={'v1': 'label', 'v2': 'message'}, inplace=True)\n",
        "\n",
        "# Define the vocabulary size, maximum sequence length, and embedding dimension\n",
        "vocab_size = 10000  # Example value, adjust as needed\n",
        "max_length = 100    # Example value, adjust as needed\n",
        "embedding_dim = 16   # Example value, adjust as needed\n",
        "\n",
        "# Initialize and fit the tokenizer on the training messages.\n",
        "tokenizer = Tokenizer(num_words=vocab_size, oov_token='<OOV>')\n",
        "tokenizer.fit_on_texts(train_df['message'])\n",
        "\n",
        "# Convert text messages to sequences of integers.\n",
        "train_sequences = tokenizer.texts_to_sequences(train_df['message'])\n",
        "test_sequences = tokenizer.texts_to_sequences(test_df['message'])\n",
        "\n",
        "# Pad the sequences so they are all the same length.\n",
        "X_train = pad_sequences(train_sequences, maxlen=max_length, padding='post', truncating='post')\n",
        "X_test = pad_sequences(test_sequences, maxlen=max_length, padding='post', truncating='post')\n",
        "\n",
        "# Get labels as NumPy arrays.\n",
        "y_train = np.array(train_df['label'])\n",
        "y_test = np.array(test_df['label'])\n",
        "\n",
        "# Create a simple sequential model.\n",
        "model = Sequential([\n",
        "    Embedding(input_dim=vocab_size, output_dim=embedding_dim, input_length=max_length),\n",
        "    GlobalAveragePooling1D(),\n",
        "    Dense(24, activation='relu'),\n",
        "    Dense(1, activation='sigmoid')  # Output layer: sigmoid activation gives probability of spam.\n",
        "])\n",
        "\n",
        "# Compile the model using binary crossentropy since we have a binary classification.\n",
        "model.compile(loss='binary_crossentropy', optimizer='adam', metrics=['accuracy'])\n",
        "model.summary()\n",
        "\n",
        "# Use early stopping to avoid overfitting.\n",
        "early_stop = EarlyStopping(monitor='val_loss', patience=3)\n",
        "\n",
        "# Train the model.\n",
        "history = model.fit(X_train, y_train,\n",
        "                    epochs=20,\n",
        "                    validation_data=(X_test, y_test),\n",
        "                    callbacks=[early_stop],\n",
        "                    verbose=2)\n",
        "\n",
        "def predict_message(message):\n",
        "    \"\"\"\n",
        "    Predicts whether a given SMS message is ham or spam.\n",
        "\n",
        "    Args:\n",
        "        message (str): The SMS message to classify.\n",
        "\n",
        "    Returns:\n",
        "        list: A two-element list where the first element is the probability (0 to 1)\n",
        "              that the message is spam, and the second element is the string 'spam'\n",
        "              if the message is more likely spam or 'ham' otherwise.\n",
        "    \"\"\"\n",
        "    sequence = tokenizer.texts_to_sequences([message])\n",
        "    padded = pad_sequences(sequence, maxlen=max_length, padding='post', truncating='post')\n",
        "\n",
        "    # Get prediction probability (the output is probability of spam since spam is encoded as 1).\n",
        "    prob = model.predict(padded)[0][0]\n",
        "\n",
        "    # Determine the label based on a 0.5 threshold.\n",
        "    label = 'spam' if prob >= 0.5 else 'ham'\n",
        "    return [float(prob), label]\n",
        "\n"
      ],
      "metadata": {
        "colab": {
          "base_uri": "https://localhost:8080/",
          "height": 1000
        },
        "id": "MwM_sUmD7Mb5",
        "outputId": "22e08597-906f-4d44-fe8e-caa2cec6466b"
      },
      "execution_count": null,
      "outputs": [
        {
          "output_type": "stream",
          "name": "stderr",
          "text": [
            "/usr/local/lib/python3.11/dist-packages/keras/src/layers/core/embedding.py:90: UserWarning: Argument `input_length` is deprecated. Just remove it.\n",
            "  warnings.warn(\n"
          ]
        },
        {
          "output_type": "display_data",
          "data": {
            "text/plain": [
              "\u001b[1mModel: \"sequential_1\"\u001b[0m\n"
            ],
            "text/html": [
              "<pre style=\"white-space:pre;overflow-x:auto;line-height:normal;font-family:Menlo,'DejaVu Sans Mono',consolas,'Courier New',monospace\"><span style=\"font-weight: bold\">Model: \"sequential_1\"</span>\n",
              "</pre>\n"
            ]
          },
          "metadata": {}
        },
        {
          "output_type": "display_data",
          "data": {
            "text/plain": [
              "┏━━━━━━━━━━━━━━━━━━━━━━━━━━━━━━━━━━━━━━┳━━━━━━━━━━━━━━━━━━━━━━━━━━━━━┳━━━━━━━━━━━━━━━━━┓\n",
              "┃\u001b[1m \u001b[0m\u001b[1mLayer (type)                        \u001b[0m\u001b[1m \u001b[0m┃\u001b[1m \u001b[0m\u001b[1mOutput Shape               \u001b[0m\u001b[1m \u001b[0m┃\u001b[1m \u001b[0m\u001b[1m        Param #\u001b[0m\u001b[1m \u001b[0m┃\n",
              "┡━━━━━━━━━━━━━━━━━━━━━━━━━━━━━━━━━━━━━━╇━━━━━━━━━━━━━━━━━━━━━━━━━━━━━╇━━━━━━━━━━━━━━━━━┩\n",
              "│ embedding_1 (\u001b[38;5;33mEmbedding\u001b[0m)              │ ?                           │     \u001b[38;5;34m0\u001b[0m (unbuilt) │\n",
              "├──────────────────────────────────────┼─────────────────────────────┼─────────────────┤\n",
              "│ global_average_pooling1d_1           │ ?                           │               \u001b[38;5;34m0\u001b[0m │\n",
              "│ (\u001b[38;5;33mGlobalAveragePooling1D\u001b[0m)             │                             │                 │\n",
              "├──────────────────────────────────────┼─────────────────────────────┼─────────────────┤\n",
              "│ dense_2 (\u001b[38;5;33mDense\u001b[0m)                      │ ?                           │     \u001b[38;5;34m0\u001b[0m (unbuilt) │\n",
              "├──────────────────────────────────────┼─────────────────────────────┼─────────────────┤\n",
              "│ dense_3 (\u001b[38;5;33mDense\u001b[0m)                      │ ?                           │     \u001b[38;5;34m0\u001b[0m (unbuilt) │\n",
              "└──────────────────────────────────────┴─────────────────────────────┴─────────────────┘\n"
            ],
            "text/html": [
              "<pre style=\"white-space:pre;overflow-x:auto;line-height:normal;font-family:Menlo,'DejaVu Sans Mono',consolas,'Courier New',monospace\">┏━━━━━━━━━━━━━━━━━━━━━━━━━━━━━━━━━━━━━━┳━━━━━━━━━━━━━━━━━━━━━━━━━━━━━┳━━━━━━━━━━━━━━━━━┓\n",
              "┃<span style=\"font-weight: bold\"> Layer (type)                         </span>┃<span style=\"font-weight: bold\"> Output Shape                </span>┃<span style=\"font-weight: bold\">         Param # </span>┃\n",
              "┡━━━━━━━━━━━━━━━━━━━━━━━━━━━━━━━━━━━━━━╇━━━━━━━━━━━━━━━━━━━━━━━━━━━━━╇━━━━━━━━━━━━━━━━━┩\n",
              "│ embedding_1 (<span style=\"color: #0087ff; text-decoration-color: #0087ff\">Embedding</span>)              │ ?                           │     <span style=\"color: #00af00; text-decoration-color: #00af00\">0</span> (unbuilt) │\n",
              "├──────────────────────────────────────┼─────────────────────────────┼─────────────────┤\n",
              "│ global_average_pooling1d_1           │ ?                           │               <span style=\"color: #00af00; text-decoration-color: #00af00\">0</span> │\n",
              "│ (<span style=\"color: #0087ff; text-decoration-color: #0087ff\">GlobalAveragePooling1D</span>)             │                             │                 │\n",
              "├──────────────────────────────────────┼─────────────────────────────┼─────────────────┤\n",
              "│ dense_2 (<span style=\"color: #0087ff; text-decoration-color: #0087ff\">Dense</span>)                      │ ?                           │     <span style=\"color: #00af00; text-decoration-color: #00af00\">0</span> (unbuilt) │\n",
              "├──────────────────────────────────────┼─────────────────────────────┼─────────────────┤\n",
              "│ dense_3 (<span style=\"color: #0087ff; text-decoration-color: #0087ff\">Dense</span>)                      │ ?                           │     <span style=\"color: #00af00; text-decoration-color: #00af00\">0</span> (unbuilt) │\n",
              "└──────────────────────────────────────┴─────────────────────────────┴─────────────────┘\n",
              "</pre>\n"
            ]
          },
          "metadata": {}
        },
        {
          "output_type": "display_data",
          "data": {
            "text/plain": [
              "\u001b[1m Total params: \u001b[0m\u001b[38;5;34m0\u001b[0m (0.00 B)\n"
            ],
            "text/html": [
              "<pre style=\"white-space:pre;overflow-x:auto;line-height:normal;font-family:Menlo,'DejaVu Sans Mono',consolas,'Courier New',monospace\"><span style=\"font-weight: bold\"> Total params: </span><span style=\"color: #00af00; text-decoration-color: #00af00\">0</span> (0.00 B)\n",
              "</pre>\n"
            ]
          },
          "metadata": {}
        },
        {
          "output_type": "display_data",
          "data": {
            "text/plain": [
              "\u001b[1m Trainable params: \u001b[0m\u001b[38;5;34m0\u001b[0m (0.00 B)\n"
            ],
            "text/html": [
              "<pre style=\"white-space:pre;overflow-x:auto;line-height:normal;font-family:Menlo,'DejaVu Sans Mono',consolas,'Courier New',monospace\"><span style=\"font-weight: bold\"> Trainable params: </span><span style=\"color: #00af00; text-decoration-color: #00af00\">0</span> (0.00 B)\n",
              "</pre>\n"
            ]
          },
          "metadata": {}
        },
        {
          "output_type": "display_data",
          "data": {
            "text/plain": [
              "\u001b[1m Non-trainable params: \u001b[0m\u001b[38;5;34m0\u001b[0m (0.00 B)\n"
            ],
            "text/html": [
              "<pre style=\"white-space:pre;overflow-x:auto;line-height:normal;font-family:Menlo,'DejaVu Sans Mono',consolas,'Courier New',monospace\"><span style=\"font-weight: bold\"> Non-trainable params: </span><span style=\"color: #00af00; text-decoration-color: #00af00\">0</span> (0.00 B)\n",
              "</pre>\n"
            ]
          },
          "metadata": {}
        },
        {
          "output_type": "stream",
          "name": "stdout",
          "text": [
            "Epoch 1/20\n",
            "140/140 - 3s - 20ms/step - accuracy: 0.8607 - loss: 0.3884 - val_accuracy: 0.8655 - val_loss: 0.3674\n",
            "Epoch 2/20\n",
            "140/140 - 1s - 4ms/step - accuracy: 0.8661 - loss: 0.3603 - val_accuracy: 0.8655 - val_loss: 0.3622\n",
            "Epoch 3/20\n",
            "140/140 - 1s - 4ms/step - accuracy: 0.8661 - loss: 0.3523 - val_accuracy: 0.8655 - val_loss: 0.3500\n",
            "Epoch 4/20\n",
            "140/140 - 1s - 5ms/step - accuracy: 0.8661 - loss: 0.3375 - val_accuracy: 0.8655 - val_loss: 0.3312\n",
            "Epoch 5/20\n",
            "140/140 - 1s - 5ms/step - accuracy: 0.8661 - loss: 0.2958 - val_accuracy: 0.8655 - val_loss: 0.2764\n",
            "Epoch 6/20\n",
            "140/140 - 1s - 4ms/step - accuracy: 0.8986 - loss: 0.2115 - val_accuracy: 0.9318 - val_loss: 0.1744\n",
            "Epoch 7/20\n",
            "140/140 - 1s - 5ms/step - accuracy: 0.9641 - loss: 0.1163 - val_accuracy: 0.9749 - val_loss: 0.1121\n",
            "Epoch 8/20\n",
            "140/140 - 1s - 5ms/step - accuracy: 0.9803 - loss: 0.0727 - val_accuracy: 0.9758 - val_loss: 0.0872\n",
            "Epoch 9/20\n",
            "140/140 - 1s - 4ms/step - accuracy: 0.9838 - loss: 0.0548 - val_accuracy: 0.9776 - val_loss: 0.0782\n",
            "Epoch 10/20\n",
            "140/140 - 1s - 4ms/step - accuracy: 0.9868 - loss: 0.0438 - val_accuracy: 0.9785 - val_loss: 0.0760\n",
            "Epoch 11/20\n",
            "140/140 - 1s - 4ms/step - accuracy: 0.9890 - loss: 0.0380 - val_accuracy: 0.9821 - val_loss: 0.0818\n",
            "Epoch 12/20\n",
            "140/140 - 1s - 5ms/step - accuracy: 0.9899 - loss: 0.0342 - val_accuracy: 0.9803 - val_loss: 0.0683\n",
            "Epoch 13/20\n",
            "140/140 - 1s - 4ms/step - accuracy: 0.9899 - loss: 0.0323 - val_accuracy: 0.9785 - val_loss: 0.0790\n",
            "Epoch 14/20\n",
            "140/140 - 1s - 4ms/step - accuracy: 0.9917 - loss: 0.0269 - val_accuracy: 0.9812 - val_loss: 0.0714\n",
            "Epoch 15/20\n",
            "140/140 - 1s - 4ms/step - accuracy: 0.9924 - loss: 0.0256 - val_accuracy: 0.9839 - val_loss: 0.0655\n",
            "Epoch 16/20\n",
            "140/140 - 1s - 6ms/step - accuracy: 0.9937 - loss: 0.0220 - val_accuracy: 0.9821 - val_loss: 0.0673\n",
            "Epoch 17/20\n",
            "140/140 - 1s - 10ms/step - accuracy: 0.9926 - loss: 0.0216 - val_accuracy: 0.9839 - val_loss: 0.0648\n",
            "Epoch 18/20\n",
            "140/140 - 1s - 4ms/step - accuracy: 0.9930 - loss: 0.0220 - val_accuracy: 0.9812 - val_loss: 0.0690\n",
            "Epoch 19/20\n",
            "140/140 - 1s - 5ms/step - accuracy: 0.9946 - loss: 0.0181 - val_accuracy: 0.9803 - val_loss: 0.0752\n",
            "Epoch 20/20\n",
            "140/140 - 1s - 4ms/step - accuracy: 0.9955 - loss: 0.0167 - val_accuracy: 0.9821 - val_loss: 0.0690\n",
            "\u001b[1m1/1\u001b[0m \u001b[32m━━━━━━━━━━━━━━━━━━━━\u001b[0m\u001b[37m\u001b[0m \u001b[1m0s\u001b[0m 80ms/step\n",
            "[0.9308504462242126, 'spam']\n",
            "\u001b[1m1/1\u001b[0m \u001b[32m━━━━━━━━━━━━━━━━━━━━\u001b[0m\u001b[37m\u001b[0m \u001b[1m0s\u001b[0m 35ms/step\n",
            "[0.0024807313457131386, 'ham']\n"
          ]
        }
      ]
    },
    {
      "cell_type": "code",
      "source": [
        "\n",
        "# --- Example Tests ---\n",
        "# You can test the function with sample messages.\n",
        "\n",
        "print(predict_message(\"Congratulations! You've won a free ticket to Bahamas. Call now!\"))\n",
        "print(predict_message(\"Hey, are we still on for lunch today?\"))"
      ],
      "metadata": {
        "colab": {
          "base_uri": "https://localhost:8080/"
        },
        "id": "OQHqxEsi7c4M",
        "outputId": "f9e06af3-9cda-47c4-efb4-484238dbdda0"
      },
      "execution_count": null,
      "outputs": [
        {
          "output_type": "stream",
          "name": "stdout",
          "text": [
            "None\n",
            "None\n"
          ]
        }
      ]
    },
    {
      "cell_type": "code",
      "source": [
        "# --- Example Tests ---\n",
        "# You can test the function with sample messages.\n",
        "\n",
        "print(predict_message(\"Congratulations! You've won a free ticket to Bahamas. Call now!\"))\n",
        "print(predict_message(\"Hey, are we still on for lunch today?\"))"
      ],
      "metadata": {
        "colab": {
          "base_uri": "https://localhost:8080/"
        },
        "id": "jevf9-q6DZKx",
        "outputId": "842e2282-2142-44c2-b779-a26d54a26f1e"
      },
      "execution_count": null,
      "outputs": [
        {
          "output_type": "stream",
          "name": "stdout",
          "text": [
            "\u001b[1m1/1\u001b[0m \u001b[32m━━━━━━━━━━━━━━━━━━━━\u001b[0m\u001b[37m\u001b[0m \u001b[1m0s\u001b[0m 34ms/step\n",
            "[0.9308504462242126, 'spam']\n",
            "\u001b[1m1/1\u001b[0m \u001b[32m━━━━━━━━━━━━━━━━━━━━\u001b[0m\u001b[37m\u001b[0m \u001b[1m0s\u001b[0m 34ms/step\n",
            "[0.0024807313457131386, 'ham']\n"
          ]
        }
      ]
    }
  ]
}